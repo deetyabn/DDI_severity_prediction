{
  "nbformat": 4,
  "nbformat_minor": 0,
  "metadata": {
    "colab": {
      "name": "DDI Project (Cleaner)",
      "provenance": []
    },
    "kernelspec": {
      "name": "python3",
      "display_name": "Python 3"
    },
    "language_info": {
      "name": "python"
    },
    "widgets": {
      "application/vnd.jupyter.widget-state+json": {
        "cccbd5d1b9744228a5d9e5c7131b42a0": {
          "model_module": "@jupyter-widgets/controls",
          "model_name": "HBoxModel",
          "model_module_version": "1.5.0",
          "state": {
            "_dom_classes": [],
            "_model_module": "@jupyter-widgets/controls",
            "_model_module_version": "1.5.0",
            "_model_name": "HBoxModel",
            "_view_count": null,
            "_view_module": "@jupyter-widgets/controls",
            "_view_module_version": "1.5.0",
            "_view_name": "HBoxView",
            "box_style": "",
            "children": [
              "IPY_MODEL_8ada05b901904d38974711df81893f7d",
              "IPY_MODEL_a6511ad76ed64c52b0d7b703f6cdee35",
              "IPY_MODEL_e1c8c91fa56f48b0a321d0ba1a5abcb2"
            ],
            "layout": "IPY_MODEL_31a1ea573ad649e29d387677031ce45c"
          }
        },
        "8ada05b901904d38974711df81893f7d": {
          "model_module": "@jupyter-widgets/controls",
          "model_name": "HTMLModel",
          "model_module_version": "1.5.0",
          "state": {
            "_dom_classes": [],
            "_model_module": "@jupyter-widgets/controls",
            "_model_module_version": "1.5.0",
            "_model_name": "HTMLModel",
            "_view_count": null,
            "_view_module": "@jupyter-widgets/controls",
            "_view_module_version": "1.5.0",
            "_view_name": "HTMLView",
            "description": "",
            "description_tooltip": null,
            "layout": "IPY_MODEL_37126a2b46824edca5f93c95272de512",
            "placeholder": "​",
            "style": "IPY_MODEL_b03a4179ee5b444cac103b6e038d0a9a",
            "value": "Computing transition probabilities: 100%"
          }
        },
        "a6511ad76ed64c52b0d7b703f6cdee35": {
          "model_module": "@jupyter-widgets/controls",
          "model_name": "FloatProgressModel",
          "model_module_version": "1.5.0",
          "state": {
            "_dom_classes": [],
            "_model_module": "@jupyter-widgets/controls",
            "_model_module_version": "1.5.0",
            "_model_name": "FloatProgressModel",
            "_view_count": null,
            "_view_module": "@jupyter-widgets/controls",
            "_view_module_version": "1.5.0",
            "_view_name": "ProgressView",
            "bar_style": "success",
            "description": "",
            "description_tooltip": null,
            "layout": "IPY_MODEL_679a0b6b7ae64605b2456c28e9955bc6",
            "max": 1699,
            "min": 0,
            "orientation": "horizontal",
            "style": "IPY_MODEL_699833a2095d43df924c4992fb50a2f2",
            "value": 1699
          }
        },
        "e1c8c91fa56f48b0a321d0ba1a5abcb2": {
          "model_module": "@jupyter-widgets/controls",
          "model_name": "HTMLModel",
          "model_module_version": "1.5.0",
          "state": {
            "_dom_classes": [],
            "_model_module": "@jupyter-widgets/controls",
            "_model_module_version": "1.5.0",
            "_model_name": "HTMLModel",
            "_view_count": null,
            "_view_module": "@jupyter-widgets/controls",
            "_view_module_version": "1.5.0",
            "_view_name": "HTMLView",
            "description": "",
            "description_tooltip": null,
            "layout": "IPY_MODEL_90930a6455ed47a5a1ea89244b8218cb",
            "placeholder": "​",
            "style": "IPY_MODEL_1e661931c22f4c60b4054dfec858b01c",
            "value": " 1699/1699 [03:04&lt;00:00, 186.37it/s]"
          }
        },
        "31a1ea573ad649e29d387677031ce45c": {
          "model_module": "@jupyter-widgets/base",
          "model_name": "LayoutModel",
          "model_module_version": "1.2.0",
          "state": {
            "_model_module": "@jupyter-widgets/base",
            "_model_module_version": "1.2.0",
            "_model_name": "LayoutModel",
            "_view_count": null,
            "_view_module": "@jupyter-widgets/base",
            "_view_module_version": "1.2.0",
            "_view_name": "LayoutView",
            "align_content": null,
            "align_items": null,
            "align_self": null,
            "border": null,
            "bottom": null,
            "display": null,
            "flex": null,
            "flex_flow": null,
            "grid_area": null,
            "grid_auto_columns": null,
            "grid_auto_flow": null,
            "grid_auto_rows": null,
            "grid_column": null,
            "grid_gap": null,
            "grid_row": null,
            "grid_template_areas": null,
            "grid_template_columns": null,
            "grid_template_rows": null,
            "height": null,
            "justify_content": null,
            "justify_items": null,
            "left": null,
            "margin": null,
            "max_height": null,
            "max_width": null,
            "min_height": null,
            "min_width": null,
            "object_fit": null,
            "object_position": null,
            "order": null,
            "overflow": null,
            "overflow_x": null,
            "overflow_y": null,
            "padding": null,
            "right": null,
            "top": null,
            "visibility": null,
            "width": null
          }
        },
        "37126a2b46824edca5f93c95272de512": {
          "model_module": "@jupyter-widgets/base",
          "model_name": "LayoutModel",
          "model_module_version": "1.2.0",
          "state": {
            "_model_module": "@jupyter-widgets/base",
            "_model_module_version": "1.2.0",
            "_model_name": "LayoutModel",
            "_view_count": null,
            "_view_module": "@jupyter-widgets/base",
            "_view_module_version": "1.2.0",
            "_view_name": "LayoutView",
            "align_content": null,
            "align_items": null,
            "align_self": null,
            "border": null,
            "bottom": null,
            "display": null,
            "flex": null,
            "flex_flow": null,
            "grid_area": null,
            "grid_auto_columns": null,
            "grid_auto_flow": null,
            "grid_auto_rows": null,
            "grid_column": null,
            "grid_gap": null,
            "grid_row": null,
            "grid_template_areas": null,
            "grid_template_columns": null,
            "grid_template_rows": null,
            "height": null,
            "justify_content": null,
            "justify_items": null,
            "left": null,
            "margin": null,
            "max_height": null,
            "max_width": null,
            "min_height": null,
            "min_width": null,
            "object_fit": null,
            "object_position": null,
            "order": null,
            "overflow": null,
            "overflow_x": null,
            "overflow_y": null,
            "padding": null,
            "right": null,
            "top": null,
            "visibility": null,
            "width": null
          }
        },
        "b03a4179ee5b444cac103b6e038d0a9a": {
          "model_module": "@jupyter-widgets/controls",
          "model_name": "DescriptionStyleModel",
          "model_module_version": "1.5.0",
          "state": {
            "_model_module": "@jupyter-widgets/controls",
            "_model_module_version": "1.5.0",
            "_model_name": "DescriptionStyleModel",
            "_view_count": null,
            "_view_module": "@jupyter-widgets/base",
            "_view_module_version": "1.2.0",
            "_view_name": "StyleView",
            "description_width": ""
          }
        },
        "679a0b6b7ae64605b2456c28e9955bc6": {
          "model_module": "@jupyter-widgets/base",
          "model_name": "LayoutModel",
          "model_module_version": "1.2.0",
          "state": {
            "_model_module": "@jupyter-widgets/base",
            "_model_module_version": "1.2.0",
            "_model_name": "LayoutModel",
            "_view_count": null,
            "_view_module": "@jupyter-widgets/base",
            "_view_module_version": "1.2.0",
            "_view_name": "LayoutView",
            "align_content": null,
            "align_items": null,
            "align_self": null,
            "border": null,
            "bottom": null,
            "display": null,
            "flex": null,
            "flex_flow": null,
            "grid_area": null,
            "grid_auto_columns": null,
            "grid_auto_flow": null,
            "grid_auto_rows": null,
            "grid_column": null,
            "grid_gap": null,
            "grid_row": null,
            "grid_template_areas": null,
            "grid_template_columns": null,
            "grid_template_rows": null,
            "height": null,
            "justify_content": null,
            "justify_items": null,
            "left": null,
            "margin": null,
            "max_height": null,
            "max_width": null,
            "min_height": null,
            "min_width": null,
            "object_fit": null,
            "object_position": null,
            "order": null,
            "overflow": null,
            "overflow_x": null,
            "overflow_y": null,
            "padding": null,
            "right": null,
            "top": null,
            "visibility": null,
            "width": null
          }
        },
        "699833a2095d43df924c4992fb50a2f2": {
          "model_module": "@jupyter-widgets/controls",
          "model_name": "ProgressStyleModel",
          "model_module_version": "1.5.0",
          "state": {
            "_model_module": "@jupyter-widgets/controls",
            "_model_module_version": "1.5.0",
            "_model_name": "ProgressStyleModel",
            "_view_count": null,
            "_view_module": "@jupyter-widgets/base",
            "_view_module_version": "1.2.0",
            "_view_name": "StyleView",
            "bar_color": null,
            "description_width": ""
          }
        },
        "90930a6455ed47a5a1ea89244b8218cb": {
          "model_module": "@jupyter-widgets/base",
          "model_name": "LayoutModel",
          "model_module_version": "1.2.0",
          "state": {
            "_model_module": "@jupyter-widgets/base",
            "_model_module_version": "1.2.0",
            "_model_name": "LayoutModel",
            "_view_count": null,
            "_view_module": "@jupyter-widgets/base",
            "_view_module_version": "1.2.0",
            "_view_name": "LayoutView",
            "align_content": null,
            "align_items": null,
            "align_self": null,
            "border": null,
            "bottom": null,
            "display": null,
            "flex": null,
            "flex_flow": null,
            "grid_area": null,
            "grid_auto_columns": null,
            "grid_auto_flow": null,
            "grid_auto_rows": null,
            "grid_column": null,
            "grid_gap": null,
            "grid_row": null,
            "grid_template_areas": null,
            "grid_template_columns": null,
            "grid_template_rows": null,
            "height": null,
            "justify_content": null,
            "justify_items": null,
            "left": null,
            "margin": null,
            "max_height": null,
            "max_width": null,
            "min_height": null,
            "min_width": null,
            "object_fit": null,
            "object_position": null,
            "order": null,
            "overflow": null,
            "overflow_x": null,
            "overflow_y": null,
            "padding": null,
            "right": null,
            "top": null,
            "visibility": null,
            "width": null
          }
        },
        "1e661931c22f4c60b4054dfec858b01c": {
          "model_module": "@jupyter-widgets/controls",
          "model_name": "DescriptionStyleModel",
          "model_module_version": "1.5.0",
          "state": {
            "_model_module": "@jupyter-widgets/controls",
            "_model_module_version": "1.5.0",
            "_model_name": "DescriptionStyleModel",
            "_view_count": null,
            "_view_module": "@jupyter-widgets/base",
            "_view_module_version": "1.2.0",
            "_view_name": "StyleView",
            "description_width": ""
          }
        }
      }
    }
  },
  "cells": [
    {
      "cell_type": "code",
      "execution_count": 40,
      "metadata": {
        "id": "KEz5fEc2S55t"
      },
      "outputs": [],
      "source": [
        "## Import necessary packages\n",
        "import pandas as pd\n",
        "import numpy as np\n",
        "import networkx as nx\n",
        "import matplotlib.pyplot as plt\n",
        "import sklearn\n",
        "from sklearn.model_selection import train_test_split"
      ]
    },
    {
      "cell_type": "code",
      "source": [
        "## Store data in Pandas Dataframe\n",
        "## Data: Drug-Drug Interactions involving antineoplastic (cancer treating) and immunomodulating (affecting the immune system) agents drugs\t\n",
        "url = 'http://ddinter.scbdd.com/static/media/download/ddinter_downloads_code_L.csv'\n",
        "ddi_data = pd.read_csv(url) "
      ],
      "metadata": {
        "id": "kYnbDDRGS_NV"
      },
      "execution_count": 41,
      "outputs": []
    },
    {
      "cell_type": "code",
      "source": [
        "drugs_a_unique = ddi_data['Drug_A'].unique()\n",
        "drugs_b_unique = ddi_data['Drug_B'].unique()\n",
        "all_drugs = []\n",
        "for x in drugs_a_unique: \n",
        "  all_drugs.append(x)\n",
        "for x in drugs_b_unique: \n",
        "  all_drugs.append(x)\n",
        "all_drugs_df = pd.DataFrame(all_drugs, columns = ['Drug Name'])\n",
        "drugs_unique = all_drugs_df['Drug Name'].unique()"
      ],
      "metadata": {
        "id": "lUaGOO-9THQt"
      },
      "execution_count": 42,
      "outputs": []
    },
    {
      "cell_type": "code",
      "source": [
        "## Create list of weighted edges to signify interactions and give greater importance to more severe interactions\n",
        "interacting_drugs = ddi_data[ddi_data['Level'] != 'Unknown']\n",
        "weights = []\n",
        "for x in interacting_drugs['Level']:\n",
        "  if x == 'Major':\n",
        "    weights.append(3)\n",
        "  elif x == 'Moderate':\n",
        "    weights.append(2)\n",
        "  elif x == 'Minor':\n",
        "    weights.append(1)\n",
        "drug_edges = [\n",
        "                 [x, y, z] for x, y, z\n",
        "                 in zip(interacting_drugs['Drug_A'], \n",
        "                        interacting_drugs['Drug_B'], \n",
        "                        weights)\n",
        "                 ]"
      ],
      "metadata": {
        "id": "dzqf3jxMTOVV"
      },
      "execution_count": 4,
      "outputs": []
    },
    {
      "cell_type": "code",
      "source": [
        "## Create weighted Networkx graph\n",
        "G = nx.Graph()\n",
        "G.add_nodes_from(drugs_unique)\n",
        "G.add_weighted_edges_from(drug_edges)"
      ],
      "metadata": {
        "id": "C2LExyX5TTAK"
      },
      "execution_count": 5,
      "outputs": []
    },
    {
      "cell_type": "code",
      "source": [
        "## Install package node2vec\n",
        "## node2vec is an algorithmic framework for representational learning on graphs. \n",
        "## Given any graph, it can learn continuous feature representations for the nodes, which can then be used for various downstream machine learning tasks. \n",
        "!pip install node2vec\n",
        "from node2vec import Node2Vec"
      ],
      "metadata": {
        "colab": {
          "base_uri": "https://localhost:8080/"
        },
        "id": "MWVqcDWuTZKh",
        "outputId": "1e8a8a53-bc0c-4947-eaad-d409cf0a6772"
      },
      "execution_count": 6,
      "outputs": [
        {
          "output_type": "stream",
          "name": "stdout",
          "text": [
            "Looking in indexes: https://pypi.org/simple, https://us-python.pkg.dev/colab-wheels/public/simple/\n",
            "Collecting node2vec\n",
            "  Downloading node2vec-0.4.3.tar.gz (4.6 kB)\n",
            "Requirement already satisfied: networkx in /usr/local/lib/python3.7/dist-packages (from node2vec) (2.6.3)\n",
            "Requirement already satisfied: gensim in /usr/local/lib/python3.7/dist-packages (from node2vec) (3.6.0)\n",
            "Requirement already satisfied: numpy in /usr/local/lib/python3.7/dist-packages (from node2vec) (1.21.6)\n",
            "Requirement already satisfied: tqdm in /usr/local/lib/python3.7/dist-packages (from node2vec) (4.64.0)\n",
            "Requirement already satisfied: joblib>=0.13.2 in /usr/local/lib/python3.7/dist-packages (from node2vec) (1.1.0)\n",
            "Requirement already satisfied: smart-open>=1.2.1 in /usr/local/lib/python3.7/dist-packages (from gensim->node2vec) (5.2.1)\n",
            "Requirement already satisfied: six>=1.5.0 in /usr/local/lib/python3.7/dist-packages (from gensim->node2vec) (1.15.0)\n",
            "Requirement already satisfied: scipy>=0.18.1 in /usr/local/lib/python3.7/dist-packages (from gensim->node2vec) (1.7.3)\n",
            "Building wheels for collected packages: node2vec\n",
            "  Building wheel for node2vec (setup.py) ... \u001b[?25l\u001b[?25hdone\n",
            "  Created wheel for node2vec: filename=node2vec-0.4.3-py3-none-any.whl size=5980 sha256=69de6b717c5f0f6763c6058d74d508c9869305dc7288aa3f31c1220ad3d6d1a3\n",
            "  Stored in directory: /root/.cache/pip/wheels/07/62/78/5202cb8c03cbf1593b48a8a442fca8ceec2a8c80e22318bae9\n",
            "Successfully built node2vec\n",
            "Installing collected packages: node2vec\n",
            "Successfully installed node2vec-0.4.3\n"
          ]
        }
      ]
    },
    {
      "cell_type": "code",
      "source": [
        "## Employ Node2Vec on the weighted graph\n",
        "## Create embeddings. Parameters indicate to create an array with 50 components based on 5 walks each with a length of 80 for each node/drug\n",
        "node2vec = Node2Vec(G, dimensions=50, num_walks=5)\n",
        "## Fit the walks to a model using skipgram/Word2Vec\n",
        "model = node2vec.fit()\n",
        "## Translate to a dataframe of the vectors/arrays that we can use in the model\n",
        "emb_df = (\n",
        "    pd.DataFrame(\n",
        "        [model.wv.get_vector(str(n)) for n in G.nodes()],\n",
        "        index = G.nodes\n",
        "    )\n",
        ")"
      ],
      "metadata": {
        "colab": {
          "base_uri": "https://localhost:8080/",
          "height": 85,
          "referenced_widgets": [
            "cccbd5d1b9744228a5d9e5c7131b42a0",
            "8ada05b901904d38974711df81893f7d",
            "a6511ad76ed64c52b0d7b703f6cdee35",
            "e1c8c91fa56f48b0a321d0ba1a5abcb2",
            "31a1ea573ad649e29d387677031ce45c",
            "37126a2b46824edca5f93c95272de512",
            "b03a4179ee5b444cac103b6e038d0a9a",
            "679a0b6b7ae64605b2456c28e9955bc6",
            "699833a2095d43df924c4992fb50a2f2",
            "90930a6455ed47a5a1ea89244b8218cb",
            "1e661931c22f4c60b4054dfec858b01c"
          ]
        },
        "id": "TMi7akY0TZ0J",
        "outputId": "f60e1f75-63c8-4677-e2fe-bbb238b5cf36"
      },
      "execution_count": 7,
      "outputs": [
        {
          "output_type": "display_data",
          "data": {
            "text/plain": [
              "Computing transition probabilities:   0%|          | 0/1699 [00:00<?, ?it/s]"
            ],
            "application/vnd.jupyter.widget-view+json": {
              "version_major": 2,
              "version_minor": 0,
              "model_id": "cccbd5d1b9744228a5d9e5c7131b42a0"
            }
          },
          "metadata": {}
        },
        {
          "output_type": "stream",
          "name": "stderr",
          "text": [
            "Generating walks (CPU: 1): 100%|██████████| 5/5 [01:09<00:00, 13.88s/it]\n",
            "WARNING:gensim.models.base_any2vec:consider setting layer size to a multiple of 4 for greater performance\n"
          ]
        }
      ]
    },
    {
      "cell_type": "code",
      "source": [
        "## Create X matrix with only interacting drugs' embeddings\n",
        "X = []\n",
        "for x, y in zip(interacting_drugs['Drug_A'], interacting_drugs['Drug_B']):\n",
        "  emb_con_2 = np.concatenate((emb_df.loc[x].to_numpy(), emb_df.loc[y].to_numpy()))\n",
        "  X.append(emb_con_2)"
      ],
      "metadata": {
        "id": "fH33lsYmTcFK"
      },
      "execution_count": 8,
      "outputs": []
    },
    {
      "cell_type": "code",
      "source": [
        "## Create a y-matrix with the level of interaction\n",
        "y = []\n",
        "for x in interacting_drugs['Level']:\n",
        "  y.append(x)"
      ],
      "metadata": {
        "id": "5zlU91KWTeTc"
      },
      "execution_count": 9,
      "outputs": []
    },
    {
      "cell_type": "code",
      "source": [
        "## Split data into training and testing\n",
        "X_train,X_test,y_train,y_test = train_test_split(X, y, test_size = 0.3, random_state=0)"
      ],
      "metadata": {
        "id": "VUOD-mTQT2Vx"
      },
      "execution_count": 10,
      "outputs": []
    },
    {
      "cell_type": "code",
      "source": [
        "## Import models to test\n",
        "from sklearn.neighbors import NearestNeighbors\n",
        "from sklearn.neighbors import KNeighborsClassifier\n",
        "from sklearn.neural_network import MLPClassifier\n",
        "from sklearn.svm import SVC"
      ],
      "metadata": {
        "id": "UTzFxOu7UE7h"
      },
      "execution_count": 11,
      "outputs": []
    },
    {
      "cell_type": "code",
      "source": [
        "## Import metrics\n",
        "from sklearn.metrics import accuracy_score\n",
        "from sklearn.metrics import confusion_matrix\n",
        "from sklearn.metrics import precision_score\n",
        "from sklearn.metrics import recall_score\n",
        "from sklearn.metrics import f1_score\n",
        "from sklearn.metrics import ConfusionMatrixDisplay"
      ],
      "metadata": {
        "id": "g5GkiI7XUHuY"
      },
      "execution_count": 12,
      "outputs": []
    },
    {
      "cell_type": "code",
      "source": [
        "## K Nearest Neighbors Model\n",
        "knn = KNeighborsClassifier(n_neighbors=5)\n",
        "knn.fit(X_train, y_train)\n",
        "predictions = knn.predict(X_test)\n",
        "\n",
        "score = accuracy_score(y_test, predictions)\n",
        "print('KNN Accuracy: ' + str(score))\n",
        "precision = precision_score(y_test, predictions, average=None)\n",
        "print('KNN Precision: ' + str(precision))\n",
        "recall = recall_score(y_test, predictions, average=None)\n",
        "print('KNN Recall: ' + str(recall))\n",
        "f1 = f1_score(y_test, predictions, average=None)\n",
        "print('KNN F1 score: ' + str(f1))\n",
        "\n",
        "con_mat = confusion_matrix(y_test, predictions)\n",
        "disp = ConfusionMatrixDisplay(con_mat, display_labels = knn.classes_)\n",
        "disp.plot()\n",
        "plt.title('Confusion matrix of the KNN classifier')\n",
        "plt.show()"
      ],
      "metadata": {
        "colab": {
          "base_uri": "https://localhost:8080/",
          "height": 366
        },
        "id": "l7t32BPTUOkh",
        "outputId": "c529dde9-5051-4869-aebb-8f062223498a"
      },
      "execution_count": 39,
      "outputs": [
        {
          "output_type": "stream",
          "name": "stdout",
          "text": [
            "KNN Accuracy: 0.8322888518369459\n",
            "KNN Precision: [0.74790677 0.80519481 0.86309143]\n",
            "KNN Recall: [0.6807415  0.61184211 0.90519698]\n",
            "KNN F1 score: [0.71274531 0.6953271  0.88364291]\n"
          ]
        },
        {
          "output_type": "display_data",
          "data": {
            "text/plain": [
              "<Figure size 432x288 with 2 Axes>"
            ],
            "image/png": "[encoded data removed]"
          },
          "metadata": {
            "needs_background": "light"
          }
        }
      ]
    },
    {
      "cell_type": "code",
      "source": [
        "## Hyperparameter tuning - number of neighbors, try weights='distance' once\n",
        "## probably not as good since high dimensions and many samples\n",
        "accs = []\n",
        "for i in range(1,16):\n",
        "  knn = KNeighborsClassifier(n_neighbors=i)\n",
        "  knn.fit(X_train, y_train)\n",
        "  predictions = knn.predict(X_test)\n",
        "  score = accuracy_score(y_test, predictions)\n",
        "  accs.append(score)\n",
        "\n",
        "plt.figure(figsize=(10,6))\n",
        "plt.plot(range(1, 16), accs)\n",
        "\n",
        "## max accuracy around 83.5%-ish"
      ],
      "metadata": {
        "id": "Ty0hHaNvUuhC"
      },
      "execution_count": null,
      "outputs": []
    },
    {
      "cell_type": "code",
      "source": [
        "## Multi-Layer Perceptron Model\n",
        "mlp = MLPClassifier(alpha=0.0001,max_iter=200)\n",
        "mlp.fit(X_train, y_train)\n",
        "predictions = mlp.predict(X_test)\n",
        "\n",
        "score = accuracy_score(y_test, predictions)\n",
        "print('MLP Accuracy: ' + str(score))\n",
        "precision = precision_score(y_test, predictions, average=None)\n",
        "print('MLP Precision: ' + str(precision))\n",
        "recall = recall_score(y_test, predictions, average=None)\n",
        "print('MLP Recall: ' + str(recall))\n",
        "\n",
        "con_mat = confusion_matrix(y_test, predictions)\n",
        "disp = ConfusionMatrixDisplay(con_mat, display_labels = mlp.classes_)\n",
        "disp.plot()\n",
        "plt.title('Confusion matrix of the MLP classifier')\n",
        "plt.show()"
      ],
      "metadata": {
        "colab": {
          "base_uri": "https://localhost:8080/",
          "height": 404
        },
        "id": "6-4ANC2MUWLw",
        "outputId": "bb495339-c8b1-46f9-d30b-5632f0cfc461"
      },
      "execution_count": 14,
      "outputs": [
        {
          "output_type": "stream",
          "name": "stderr",
          "text": [
            "/usr/local/lib/python3.7/dist-packages/sklearn/neural_network/_multilayer_perceptron.py:696: ConvergenceWarning: Stochastic Optimizer: Maximum iterations (200) reached and the optimization hasn't converged yet.\n",
            "  ConvergenceWarning,\n"
          ]
        },
        {
          "output_type": "stream",
          "name": "stdout",
          "text": [
            "MLP Accuracy: 0.919565342379118\n",
            "MLP Precision: [0.89431068 0.78453039 0.93534589]\n",
            "MLP Recall: [0.86446962 0.70065789 0.95314334]\n"
          ]
        },
        {
          "output_type": "display_data",
          "data": {
            "text/plain": [
              "<Figure size 432x288 with 2 Axes>"
            ],
            "image/png": "[encoded data removed]"
          },
          "metadata": {
            "needs_background": "light"
          }
        }
      ]
    },
    {
      "cell_type": "code",
      "source": [
        "## Hyperparameter tuning - number of hidden layers, maybe try activation='tanh' or something else, alpha, max_iter\n",
        "accs = []\n",
        "for i in range(1,8):\n",
        "  mlp = MLPClassifier(max_iter=100*i)\n",
        "  mlp.fit(X_train, y_train)\n",
        "  predictions = mlp.predict(X_test)\n",
        "  score = accuracy_score(y_test, predictions)\n",
        "  accs.append(score)"
      ],
      "metadata": {
        "id": "olyDtTb8VMAV"
      },
      "execution_count": null,
      "outputs": []
    },
    {
      "cell_type": "code",
      "source": [
        "mlp = MLPClassifier(alpha=0.0001,max_iter=200, activation='logistic')\n",
        "mlp.fit(X_train, y_train)\n",
        "predictions = mlp.predict(X_test)\n",
        "\n",
        "score = accuracy_score(y_test, predictions)\n",
        "print('MLP Accuracy: ' + str(score))\n",
        "precision = precision_score(y_test, predictions, average=None)\n",
        "print('MLP Precision: ' + str(precision))\n",
        "recall = recall_score(y_test, predictions, average=None)\n",
        "print('MLP Recall: ' + str(recall))\n",
        "\n",
        "con_mat = confusion_matrix(y_test, predictions)\n",
        "disp = ConfusionMatrixDisplay(con_mat, display_labels = mlp.classes_)\n",
        "disp.plot()\n",
        "plt.title('Confusion matrix of the MLP classifier')\n",
        "plt.show()"
      ],
      "metadata": {
        "colab": {
          "base_uri": "https://localhost:8080/",
          "height": 404
        },
        "id": "WlPb4jGmUEs2",
        "outputId": "7a3ff454-1c4c-4df0-ace5-970fe815e92c"
      },
      "execution_count": 15,
      "outputs": [
        {
          "output_type": "stream",
          "name": "stderr",
          "text": [
            "/usr/local/lib/python3.7/dist-packages/sklearn/neural_network/_multilayer_perceptron.py:696: ConvergenceWarning: Stochastic Optimizer: Maximum iterations (200) reached and the optimization hasn't converged yet.\n",
            "  ConvergenceWarning,\n"
          ]
        },
        {
          "output_type": "stream",
          "name": "stdout",
          "text": [
            "MLP Accuracy: 0.9162881619042144\n",
            "MLP Precision: [0.89560321 0.83010753 0.92730079]\n",
            "MLP Recall: [0.85169928 0.63486842 0.95691534]\n"
          ]
        },
        {
          "output_type": "display_data",
          "data": {
            "text/plain": [
              "<Figure size 432x288 with 2 Axes>"
            ],
            "image/png": "[encoded data removed]"
          },
          "metadata": {
            "needs_background": "light"
          }
        }
      ]
    },
    {
      "cell_type": "code",
      "source": [
        "plt.figure(figsize=(10,6))\n",
        "plt.plot(accs)\n",
        "\n",
        "## max accuracy at 200 iterations, about 91.72%-ish"
      ],
      "metadata": {
        "id": "koVqk4oUR3ls"
      },
      "execution_count": null,
      "outputs": []
    },
    {
      "cell_type": "code",
      "source": [
        "## Support Vector Model\n",
        "svm = SVC(kernel='poly',degree=4)\n",
        "svm.fit(X_train, y_train)\n",
        "predictions = svm.predict(X_test)\n",
        "\n",
        "score = accuracy_score(y_test, predictions)\n",
        "print('SVM Accuracy: ' + str(score))\n",
        "precision = precision_score(y_test, predictions, average=None)\n",
        "print('SVM Precision: ' + str(precision))\n",
        "recall = recall_score(y_test, predictions, average=None)\n",
        "print('SVM Recall: ' + str(recall))\n",
        "\n",
        "con_mat = confusion_matrix(y_test, predictions)\n",
        "disp = ConfusionMatrixDisplay(con_mat, display_labels = svm.classes_)\n",
        "disp.plot()\n",
        "plt.title('Confusion matrix of the SVM classifier')\n",
        "plt.show()"
      ],
      "metadata": {
        "colab": {
          "base_uri": "https://localhost:8080/",
          "height": 349
        },
        "id": "fXqQ-vRlUdd3",
        "outputId": "9353c76b-541f-453d-cea1-04e57e279665"
      },
      "execution_count": 16,
      "outputs": [
        {
          "output_type": "stream",
          "name": "stdout",
          "text": [
            "SVM Accuracy: 0.9155407347783591\n",
            "SVM Precision: [0.92448405 0.96825397 0.91098737]\n",
            "SVM Recall: [0.81194645 0.60197368 0.9736798 ]\n"
          ]
        },
        {
          "output_type": "display_data",
          "data": {
            "text/plain": [
              "<Figure size 432x288 with 2 Axes>"
            ],
            "image/png": "[encoded data removed]"
          },
          "metadata": {
            "needs_background": "light"
          }
        }
      ]
    },
    {
      "cell_type": "code",
      "source": [
        "## Hyperparameter tuning - C, try kernel='poly' and change degree\n",
        "accs = []\n",
        "for i in range(1,7):\n",
        "  svm = SVC(kernel='poly', degree=i)\n",
        "  svm.fit(X_train, y_train)\n",
        "  predictions = svm.predict(X_test)\n",
        "  score = accuracy_score(y_test, predictions)\n",
        "  accs.append(score)\n",
        "\n",
        "plt.figure(figsize=(10,6))\n",
        "plt.plot(range(1, 7), accs)\n",
        "\n",
        "## seems like max is at 4 with >90% accuracy"
      ],
      "metadata": {
        "id": "Y-qByHd8VrrG"
      },
      "execution_count": null,
      "outputs": []
    },
    {
      "cell_type": "code",
      "source": [
        "from sklearn.tree import DecisionTreeClassifier\n",
        "dt = DecisionTreeClassifier(max_depth=41)\n",
        "dt.fit(X_train, y_train)\n",
        "predictions = dt.predict(X_test)\n",
        "\n",
        "score = accuracy_score(y_test, predictions)\n",
        "print('Decision Tree Accuracy: ' + str(score))\n",
        "precision = precision_score(y_test, predictions, average=None)\n",
        "print('Decision Tree Precision: ' + str(precision))\n",
        "recall = recall_score(y_test, predictions, average=None)\n",
        "print('Decision Tree Recall: ' + str(recall))\n",
        "\n",
        "con_mat = confusion_matrix(y_test, predictions)\n",
        "disp = ConfusionMatrixDisplay(con_mat, display_labels = dt.classes_)\n",
        "disp.plot()\n",
        "plt.title('Confusion matrix of the Decision Tree classifier')\n",
        "plt.show()"
      ],
      "metadata": {
        "colab": {
          "base_uri": "https://localhost:8080/",
          "height": 349
        },
        "id": "vve1J-KxN38-",
        "outputId": "ef844ef8-c182-4239-a114-79e13ae55289"
      },
      "execution_count": 36,
      "outputs": [
        {
          "output_type": "stream",
          "name": "stdout",
          "text": [
            "Decision Tree Accuracy: 0.8626458920255275\n",
            "Decision Tree Precision: [0.79011842 0.61295419 0.90591806]\n",
            "Decision Tree Recall: [0.79711637 0.63815789 0.9007544 ]\n"
          ]
        },
        {
          "output_type": "display_data",
          "data": {
            "text/plain": [
              "<Figure size 432x288 with 2 Axes>"
            ],
            "image/png": "[encoded data removed]"
          },
          "metadata": {
            "needs_background": "light"
          }
        }
      ]
    },
    {
      "cell_type": "code",
      "source": [
        "from google.colab import drive\n",
        "drive.mount('drive')"
      ],
      "metadata": {
        "colab": {
          "base_uri": "https://localhost:8080/"
        },
        "id": "cpEMrXNEVfXB",
        "outputId": "e1cc6b4d-6666-4082-957a-0cfde61d789a"
      },
      "execution_count": 43,
      "outputs": [
        {
          "output_type": "stream",
          "name": "stdout",
          "text": [
            "Mounted at drive\n"
          ]
        }
      ]
    },
    {
      "cell_type": "code",
      "source": [
        "emb_df.to_csv('emb_df.csv',index_label=False)\n",
        "!cp emb_df.csv \"drive/My Drive/\""
      ],
      "metadata": {
        "id": "ITEGowclmSxy"
      },
      "execution_count": 44,
      "outputs": []
    }
  ]
}